{
 "cells": [
  {
   "cell_type": "code",
   "execution_count": null,
   "id": "90f9fc15",
   "metadata": {},
   "outputs": [],
   "source": [
    "# 8. Self-Attention Mechanism\n",
    "\n",
    "import torch \n",
    "import torch.nn.functional as F \n",
    "\n",
    "x = torch.rand(1,3,4)\n",
    "Q,k,V = x,x,x\n",
    "\n",
    "scores = torch.matmul(Q , k.transpose(-2,-1)) / (4 ** 0.5)\n",
    "weights = F.softmax(scores , dim=-1)\n",
    "output = torch.matmul(weights , V)\n",
    "\n",
    "print(\"Attention Weights:\",weights)\n",
    "print(\"Output\",output)"
   ]
  }
 ],
 "metadata": {
  "kernelspec": {
   "display_name": "tensorflow_kernel",
   "language": "python",
   "name": "tensorflow_kernel"
  },
  "language_info": {
   "codemirror_mode": {
    "name": "ipython",
    "version": 3
   },
   "file_extension": ".py",
   "mimetype": "text/x-python",
   "name": "python",
   "nbconvert_exporter": "python",
   "pygments_lexer": "ipython3",
   "version": "3.10.17"
  }
 },
 "nbformat": 4,
 "nbformat_minor": 5
}
