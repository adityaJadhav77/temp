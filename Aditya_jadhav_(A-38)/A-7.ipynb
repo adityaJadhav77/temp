{
 "cells": [
  {
   "cell_type": "code",
   "execution_count": null,
   "id": "01495ffd",
   "metadata": {},
   "outputs": [],
   "source": [
    "#  FAISS Similarity Search\n",
    "\n",
    "import faiss\n",
    "import numpy as np \n",
    "\n",
    "data = np.random.random((5,4)).astype('float32')\n",
    "index = faiss.IndexFlatL2(4)\n",
    "index.add(data)\n",
    "\n",
    "query = np.random.random((1,4)).astype('float32')\n",
    "distances , indices = index.search(query , k=3)\n",
    "\n",
    "print(\"Query Vector:\",query)\n",
    "print(\"top 3 indices : \",indices)\n",
    "print(\"Distances\",distances)\n"
   ]
  }
 ],
 "metadata": {
  "kernelspec": {
   "display_name": "tensorflow_kernel",
   "language": "python",
   "name": "tensorflow_kernel"
  },
  "language_info": {
   "codemirror_mode": {
    "name": "ipython",
    "version": 3
   },
   "file_extension": ".py",
   "mimetype": "text/x-python",
   "name": "python",
   "nbconvert_exporter": "python",
   "pygments_lexer": "ipython3",
   "version": "3.10.17"
  }
 },
 "nbformat": 4,
 "nbformat_minor": 5
}
