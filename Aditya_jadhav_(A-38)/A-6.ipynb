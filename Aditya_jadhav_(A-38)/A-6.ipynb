{
 "cells": [
  {
   "cell_type": "code",
   "execution_count": null,
   "id": "dd3f152c",
   "metadata": {},
   "outputs": [],
   "source": [
    "# BERT Embeddings with Transformers\n",
    "\n",
    "from transformers import BertTokenizer , TFBertModel\n",
    "\n",
    "tokenizer = BertTokenizer.from_pretrained(\"bert-base-uncased\")\n",
    "\n",
    "model = TFBertModel.from_pretrained(\"bert-base-uncased\" , from_pt = True)\n",
    "\n",
    "inputs = tokenizer(\"Generative AI creates realistic images\" ,return_tensors=\"tf\")\n",
    "\n",
    "outputs = model(**inputs)\n",
    "last_hidden_state = outputs.last_hidden_state\n",
    "\n",
    "print(\"Bert output shape:\",last_hidden_state.shape)\n",
    "print(\"First token embedding:\",last_hidden_state[0][0][:5])"
   ]
  }
 ],
 "metadata": {
  "kernelspec": {
   "display_name": "tensorflow_kernel",
   "language": "python",
   "name": "tensorflow_kernel"
  },
  "language_info": {
   "codemirror_mode": {
    "name": "ipython",
    "version": 3
   },
   "file_extension": ".py",
   "mimetype": "text/x-python",
   "name": "python",
   "nbconvert_exporter": "python",
   "pygments_lexer": "ipython3",
   "version": "3.10.17"
  }
 },
 "nbformat": 4,
 "nbformat_minor": 5
}
