{
 "cells": [
  {
   "cell_type": "code",
   "execution_count": null,
   "id": "173b6860",
   "metadata": {},
   "outputs": [],
   "source": [
    "# Word2Vec Embeddings\n",
    "\n",
    "from gensim.models import Word2Vec\n",
    "\n",
    "sentences = [\n",
    "    [\"artificial\", \"intelligence\", \"is\", \"cool\"],\n",
    "    [\"machine\", \"learning\", \"is\", \"fun\"],\n",
    "    [\"ai\", \"learning\", \"uses\", \"neural\", \"networks\"]\n",
    "]\n",
    "\n",
    "model = Word2Vec(sentences , vector_size=10 , window=2 , min_count=1 , sg=1)\n",
    "\n",
    "print(\"Vector for learning\" , model.wv['learning'])\n",
    "\n",
    "print(\"Most Similar to learing:\" ,model.wv.most_similar('learning'))"
   ]
  }
 ],
 "metadata": {
  "kernelspec": {
   "display_name": "tensorflow_kernel",
   "language": "python",
   "name": "tensorflow_kernel"
  },
  "language_info": {
   "codemirror_mode": {
    "name": "ipython",
    "version": 3
   },
   "file_extension": ".py",
   "mimetype": "text/x-python",
   "name": "python",
   "nbconvert_exporter": "python",
   "pygments_lexer": "ipython3",
   "version": "3.10.17"
  }
 },
 "nbformat": 4,
 "nbformat_minor": 5
}
