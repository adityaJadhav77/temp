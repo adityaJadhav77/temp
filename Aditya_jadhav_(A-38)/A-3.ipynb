{
 "cells": [
  {
   "cell_type": "code",
   "execution_count": null,
   "id": "649961d7",
   "metadata": {},
   "outputs": [],
   "source": [
    "# TensorFlow Computation Graph with Eager Execution\n",
    "\n",
    "import tensorflow as tf \n",
    "\n",
    "a = tf.constant([5.0 , 3.0])\n",
    "b = tf.constant([2.0 , 7.0])\n",
    "c = a+b \n",
    "\n",
    "print(\"Eager Execution output:\" , c.numpy())\n",
    "\n",
    "@tf.function\n",
    "def multiply_tensors(x,y) : \n",
    "    return x * y\n",
    "\n",
    "result = multiply_tensors(a,b)\n",
    "print(\"Graph mode output:\", result.numpy()) \n"
   ]
  }
 ],
 "metadata": {
  "kernelspec": {
   "display_name": "tensorflow_kernel",
   "language": "python",
   "name": "tensorflow_kernel"
  },
  "language_info": {
   "codemirror_mode": {
    "name": "ipython",
    "version": 3
   },
   "file_extension": ".py",
   "mimetype": "text/x-python",
   "name": "python",
   "nbconvert_exporter": "python",
   "pygments_lexer": "ipython3",
   "version": "3.10.17"
  }
 },
 "nbformat": 4,
 "nbformat_minor": 5
}
