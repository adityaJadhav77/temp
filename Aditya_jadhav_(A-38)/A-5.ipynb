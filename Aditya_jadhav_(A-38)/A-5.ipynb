{
 "cells": [
  {
   "cell_type": "code",
   "execution_count": null,
   "id": "35db1ddf",
   "metadata": {},
   "outputs": [],
   "source": [
    "# GloVe Pre-trained Embeddings\n",
    "\n",
    "import gensim.downloader as api \n",
    "\n",
    "glove_model = api.load(\"glove-wiki-gigaword-50\")\n",
    "\n",
    "print(\"vector for 'computer' : \" , glove_model['computer'])\n",
    "\n",
    "print(\"similarity between 'computer' and 'laptop':\" , glove_model.similarity('computer' , 'laptop'))"
   ]
  }
 ],
 "metadata": {
  "kernelspec": {
   "display_name": "tensorflow_kernel",
   "language": "python",
   "name": "tensorflow_kernel"
  },
  "language_info": {
   "codemirror_mode": {
    "name": "ipython",
    "version": 3
   },
   "file_extension": ".py",
   "mimetype": "text/x-python",
   "name": "python",
   "nbconvert_exporter": "python",
   "pygments_lexer": "ipython3",
   "version": "3.10.17"
  }
 },
 "nbformat": 4,
 "nbformat_minor": 5
}
