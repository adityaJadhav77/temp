{
 "cells": [
  {
   "cell_type": "code",
   "execution_count": null,
   "id": "33722d3d",
   "metadata": {},
   "outputs": [],
   "source": [
    "# Visualizing Data Distributions for Generative AI\n",
    "\n",
    "import numpy as np \n",
    "import matplotlib.pyplot as plt \n",
    "\n",
    "data_group1 = np.random.normal(loc=50 , scale=10 , size=500)\n",
    "data_group2 = np.random.normal(loc=200 , scale=15 , size=500)\n",
    "\n",
    "plt.hist(data_group1 , label='Group 1' , color='blue')\n",
    "plt.hist(data_group2 , label='Group 2' , color='red')\n",
    "plt.title(\"Data Distribution\")\n",
    "plt.xlabel(\"Data Values\")\n",
    "plt.ylabel(\"Frequency\")\n",
    "plt.legend()\n",
    "plt.show()"
   ]
  }
 ],
 "metadata": {
  "kernelspec": {
   "display_name": "tensorflow_kernel",
   "language": "python",
   "name": "tensorflow_kernel"
  },
  "language_info": {
   "codemirror_mode": {
    "name": "ipython",
    "version": 3
   },
   "file_extension": ".py",
   "mimetype": "text/x-python",
   "name": "python",
   "nbconvert_exporter": "python",
   "pygments_lexer": "ipython3",
   "version": "3.10.17"
  }
 },
 "nbformat": 4,
 "nbformat_minor": 5
}
