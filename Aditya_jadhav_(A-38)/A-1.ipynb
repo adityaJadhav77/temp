{
 "cells": [
  {
   "cell_type": "code",
   "execution_count": null,
   "id": "3efdb359",
   "metadata": {},
   "outputs": [],
   "source": [
    "# 1. Basic Data Preprocessing for Generative AI \n",
    "import numpy as np \n",
    "from sklearn.preprocessing import MinMaxScaler \n",
    "import matplotlib.pyplot as plt \n",
    "\n",
    "data = np.random.randint(0 , 255 , (10,5))\n",
    "print(\"Original Data:\\n\" , data)\n",
    "\n",
    "scaler = MinMaxScaler()\n",
    "scaled_data = scaler.fit_transform(data)\n",
    "print(\"Scaled Data:\\n\" , scaled_data)"
   ]
  }
 ],
 "metadata": {
  "kernelspec": {
   "display_name": "tensorflow_kernel",
   "language": "python",
   "name": "tensorflow_kernel"
  },
  "language_info": {
   "codemirror_mode": {
    "name": "ipython",
    "version": 3
   },
   "file_extension": ".py",
   "mimetype": "text/x-python",
   "name": "python",
   "nbconvert_exporter": "python",
   "pygments_lexer": "ipython3",
   "version": "3.10.17"
  }
 },
 "nbformat": 4,
 "nbformat_minor": 5
}
