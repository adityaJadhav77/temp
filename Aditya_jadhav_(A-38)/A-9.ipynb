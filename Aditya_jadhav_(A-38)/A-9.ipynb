{
 "cells": [
  {
   "cell_type": "code",
   "execution_count": null,
   "id": "559c16f6",
   "metadata": {},
   "outputs": [],
   "source": [
    "# 9. Simulating Diffusion Denoising\n",
    "\n",
    "import numpy as np\n",
    "import matplotlib.pyplot as plt\n",
    "\n",
    "image = np.random.rand(28,28)\n",
    "plt.imshow(image , cmap='gray')\n",
    "plt.title(\"step-0: Noise\")\n",
    "plt.show()\n",
    "\n",
    "for step in range(1,4):\n",
    "    image = image * np.random.rand(28,28)\n",
    "    plt.imshow(image , cmap='gray')\n",
    "    plt.title(f\"step-{step}: Denoising\")\n",
    "    plt.show()"
   ]
  }
 ],
 "metadata": {
  "kernelspec": {
   "display_name": "tensorflow_kernel",
   "language": "python",
   "name": "tensorflow_kernel"
  },
  "language_info": {
   "codemirror_mode": {
    "name": "ipython",
    "version": 3
   },
   "file_extension": ".py",
   "mimetype": "text/x-python",
   "name": "python",
   "nbconvert_exporter": "python",
   "pygments_lexer": "ipython3",
   "version": "3.10.17"
  }
 },
 "nbformat": 4,
 "nbformat_minor": 5
}
